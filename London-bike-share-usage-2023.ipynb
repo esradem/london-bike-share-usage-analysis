{
 "cells": [
  {
   "cell_type": "code",
   "execution_count": null,
   "id": "47de7a7c-e6d2-48d1-9e8d-cb1d7d42b8c2",
   "metadata": {},
   "outputs": [],
   "source": [
    "pip install matplotlib"
   ]
  },
  {
   "cell_type": "code",
   "execution_count": null,
   "id": "ae932ec0-8260-43f4-a5dc-94b566dee286",
   "metadata": {},
   "outputs": [],
   "source": [
    "import numpy as np \n",
    "import pandas as pd \n",
    "import matplotlib.pyplot as plt"
   ]
  },
  {
   "cell_type": "code",
   "execution_count": null,
   "id": "4b2c469e-e9f1-484f-b0b5-aa17581632d8",
   "metadata": {},
   "outputs": [],
   "source": [
    "path = '/Users/volkan.coskun/Desktop/esra-projects/repos/london-bike-share-usage-2023/kaggle/input/LondonBikeJourneyAug2023.csv'\n",
    "df = pd.read_csv(path)\n",
    "df.head(10)"
   ]
  },
  {
   "cell_type": "code",
   "execution_count": null,
   "id": "6f2cda5f-c8ed-456e-a536-a6b63825b6ed",
   "metadata": {},
   "outputs": [],
   "source": [
    "df.info()"
   ]
  },
  {
   "cell_type": "code",
   "execution_count": null,
   "id": "044819a2-b1a6-4b31-b224-b7528ce29165",
   "metadata": {},
   "outputs": [],
   "source": [
    "df.isnull().sum()"
   ]
  },
  {
   "cell_type": "code",
   "execution_count": null,
   "id": "73815690-fe18-497c-a19d-e9178c012241",
   "metadata": {},
   "outputs": [],
   "source": [
    "# Those are the start stations counts sum\n",
    "df['Start station'].value_counts()\n"
   ]
  },
  {
   "cell_type": "code",
   "execution_count": null,
   "id": "6778b3eb-6f47-4efa-9b42-c25628039df2",
   "metadata": {},
   "outputs": [],
   "source": [
    "#unique station lenght\n",
    "unique_station = len(df['Start station'].unique())\n",
    "print(f'Total Unique Station: {unique_station}')"
   ]
  },
  {
   "cell_type": "code",
   "execution_count": null,
   "id": "8530a97c-6241-41a3-8fd2-e0cbb4a854c1",
   "metadata": {},
   "outputs": [],
   "source": [
    "#total \n",
    "sum(df['Start station'].value_counts())"
   ]
  },
  {
   "cell_type": "code",
   "execution_count": null,
   "id": "5d22910e-4e60-4056-812c-83ba1700113f",
   "metadata": {},
   "outputs": [],
   "source": [
    "#min and max duration\n",
    "#This expression converts the ride duration from milliseconds to minutes \n",
    "#by dividing each value in the 'Total duration (ms)' column by 60,000 (since there are 60,000 milliseconds in a minute).\n",
    "\n",
    "min_dur = min(df['Total duration (ms)'] / 60000)\n",
    "max_dur = max(df['Total duration (ms)'] / 60000)\n",
    "print(f'Max Duration {max_dur}\\nMin Duration {min_dur}')"
   ]
  },
  {
   "cell_type": "code",
   "execution_count": null,
   "id": "607fbc0f-7f0d-4708-8036-8a98993915d1",
   "metadata": {},
   "outputs": [],
   "source": [
    "#Top 10 Station chosen by bikers \n",
    "stations = df['Start station'].value_counts().head(10)\n",
    "\n",
    "# Sort the top 10 stations by max duration in ascending order\n",
    "stations_sorted = stations.sort_values(ascending=True)\n",
    "\n",
    "# Plotting\n",
    "plt.figure(figsize=(12,8))\n",
    "stations_sorted.plot(kind='barh', color='violet')\n",
    "\n",
    "plt.xlabel('Count')\n",
    "plt.ylabel('Station')\n",
    "plt.title('Station Counts')\n",
    "plt.grid(True)\n",
    "\n",
    "plt.show()\n"
   ]
  },
  {
   "cell_type": "code",
   "execution_count": null,
   "id": "4b1cd64e-53a0-430c-82b2-737b98e91de9",
   "metadata": {},
   "outputs": [],
   "source": [
    "# Calculate max duration for each start station\n",
    "max_durations = df.groupby('Start station')['Total duration (ms)'].max() / 60000  # Convert to minutes\n",
    "\n",
    "# Select the first 10 stations\n",
    "top_10_stations = max_durations.head(10)\n",
    "\n",
    "# Sort the top 10 stations by max duration in ascending order\n",
    "top_10_stations_sorted = top_10_stations.sort_values(ascending=True)\n",
    "\n",
    "# Plotting\n",
    "plt.figure(figsize=(12, 8))\n",
    "top_10_stations_sorted.plot(kind='barh', color='coral')\n",
    "\n",
    "plt.xlabel('Max Duration (minutes)')\n",
    "plt.ylabel('Station')\n",
    "plt.title('Max Duration of the First 10 Start Stations')\n",
    "plt.grid(True)\n",
    "\n",
    "plt.show()"
   ]
  },
  {
   "cell_type": "code",
   "execution_count": null,
   "id": "b74951ad-ba57-4065-bbfb-6aa36a2706c7",
   "metadata": {},
   "outputs": [],
   "source": [
    "# Calculate min duration for each start station\n",
    "min_durations = df.groupby('Start station')['Total duration (ms)'].min() / 60000  # Convert to minutes\n",
    "\n",
    "# Select the first 10 stations\n",
    "bottom_10_stations = min_durations.head(10)\n",
    "\n",
    "# Sort the top 10 stations by max duration in ascending order\n",
    "bottom_10_stations_sorted = bottom_10_stations.sort_values(ascending=False)\n",
    "\n",
    "# Plotting\n",
    "plt.figure(figsize=(12, 8))\n",
    "bottom_10_stations_sorted.plot(kind='barh', color='lightcoral')\n",
    "\n",
    "plt.xlabel('Min Duration (minutes)')\n",
    "plt.ylabel('Station')\n",
    "plt.title('Min Duration of the First 10 Start Stations')\n",
    "plt.grid(True)\n",
    "\n",
    "plt.show()"
   ]
  },
  {
   "cell_type": "code",
   "execution_count": null,
   "id": "5037e052-250d-4dec-a170-5ec31bc4f7c1",
   "metadata": {},
   "outputs": [],
   "source": [
    "bike = df['Bike model'].value_counts()\n",
    "\n",
    "plt.figure(figsize=(5, 3))  # Set the size of the figure\n",
    "plt.pie(bike, labels=bike.index, autopct='%1.1f%%', startangle=140,  colors= [ 'tomato', 'powderblue'])\n",
    "\n",
    "plt.axis('equal')\n",
    "plt.title('Distribution by Bike Model')\n",
    "plt.show()\n"
   ]
  },
  {
   "cell_type": "code",
   "execution_count": null,
   "id": "5a5dff3f-722f-4873-ab71-1fe16577c37d",
   "metadata": {},
   "outputs": [],
   "source": []
  }
 ],
 "metadata": {
  "kernelspec": {
   "display_name": "Python 3 (ipykernel)",
   "language": "python",
   "name": "python3"
  },
  "language_info": {
   "codemirror_mode": {
    "name": "ipython",
    "version": 3
   },
   "file_extension": ".py",
   "mimetype": "text/x-python",
   "name": "python",
   "nbconvert_exporter": "python",
   "pygments_lexer": "ipython3",
   "version": "3.11.3"
  }
 },
 "nbformat": 4,
 "nbformat_minor": 5
}
